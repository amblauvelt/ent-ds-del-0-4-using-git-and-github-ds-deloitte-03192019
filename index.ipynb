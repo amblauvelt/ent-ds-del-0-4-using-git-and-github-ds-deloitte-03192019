{
 "cells": [
  {
   "cell_type": "markdown",
   "metadata": {},
   "source": [
    "# Using Git and GitHub\n",
    "\n",
    "\n",
    "## Introduction\n",
    "In this lesson, we'll look at how we'll be using Git and GitHub as part of this course.\n",
    "\n",
    "## Objectives\n",
    "You will be able to:\n",
    "* Provide feedback on the curriculum using \"GitHub Isues\"\n",
    "* Fork (copy) and clone (download) projects from GitHub to work on as part of this course\n"
   ]
  },
  {
   "cell_type": "markdown",
   "metadata": {},
   "source": [
    "The primary tool we'll use for this course is Learn. It's a custom learning management system that allows us to track both the content and your progress through it. \n",
    "\n",
    "![Learn](http://curriculum-content.s3.amazonaws.com/ent-ds-deloitte/learn-screenshot.png)\n",
    "\n",
    "#### Raising Issues \n",
    "If you ever see an issue with the curriculum, feel free to let us know! We're always updating the content to keep it fresh, but because of that, at any given time there are always a few typos and other issues that get through our QA process. \n",
    "\n",
    "If you ever see an issue with the curriculum you'd like to share, click on the \"Issues\" icon on the top right of the screen in learn.\n",
    "\n",
    "![Issues Icon](http://curriculum-content.s3.amazonaws.com/ent-ds-deloitte/learn-screenshot-issues.png)\n",
    "\n",
    "It'll take you to a \"New Issue\" screen in GitHub for that lesson where you can create an issue. Just fill out the required title and the optional description and click the green \"submit new issue\" button.\n",
    "\n",
    "![New Issue Screen](http://curriculum-content.s3.amazonaws.com/ent-ds-deloitte/issues-screen.png)\n",
    "\n",
    "Please try to be as specific as possible about the issue (ideally what is there, what you'd expect to be there and the difference between the two), and remember that issues are for bugs or typos in the curriculum. It won't get you technical or educational support if you're just having problems figuring out the lesson - ask your instructor for that!\n",
    "\n",
    "#### Working on Labs and Projects\n",
    "For many simple lessons, you'll just view the content using Learn. However, some of the lessons (they have a title that ends with \"Lab\" or \"Project\") will require you to download the files so you can work on them locally. It is really important to do that so (a) you can save the changes to the work you do and (b) so you can get practice working with local files like you will on real projects after this course.\n",
    "\n",
    "For such projects, start by clicking the GitHub icon, just to the left of the Issues icon at the top right of the screen in learn.\n",
    "\n",
    "![GitHub Icon](http://curriculum-content.s3.amazonaws.com/ent-ds-deloitte/learn-screenshot-github.png)\n",
    "\n",
    "That will take you to the project page on GitHub for the lesson.\n",
    "\n",
    "![GitHub Icon](http://curriculum-content.s3.amazonaws.com/ent-ds-deloitte/project-page-github.png)\n",
    "\n",
    "\n",
    "\n",
    "\n",
    "\n"
   ]
  },
  {
   "cell_type": "markdown",
   "metadata": {},
   "source": [
    "## Summary\n",
    "\n",
    "Congratulations! You've now \n"
   ]
  }
 ],
 "metadata": {
  "kernelspec": {
   "display_name": "Python 3",
   "language": "python",
   "name": "python3"
  },
  "language_info": {
   "codemirror_mode": {
    "name": "ipython",
    "version": 3
   },
   "file_extension": ".py",
   "mimetype": "text/x-python",
   "name": "python",
   "nbconvert_exporter": "python",
   "pygments_lexer": "ipython3",
   "version": "3.6.6"
  }
 },
 "nbformat": 4,
 "nbformat_minor": 2
}
