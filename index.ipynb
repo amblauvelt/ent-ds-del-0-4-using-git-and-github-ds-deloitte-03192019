{
 "cells": [
  {
   "cell_type": "markdown",
   "metadata": {},
   "source": [
    "# Installing Anaconda\n",
    "\n",
    "\n",
    "## Introduction\n",
    "The first, and most important tool you'll need to start programming is a programming language! There are many different languages out there, but Python is very popular, relatively easy to learn to use, and particularly powerful for data analysis and data science due to the large number of packages (prewritten pieces of software) for efficiently working with data.\n",
    "\n",
    "There are many ways of downloading the Python programming language, but we are going to get you set up with Anaconda. Anaconda is a particular distribution of Python that also includes a lot of extra tools, a package manager and Jupyter Notebook - one of the most popular tools available for writing Python code - especially amongst data analysts and data scientists.\n",
    "\n",
    "Let's look at how to install Anaconda on Windows.\n",
    "\n",
    "## Objectives\n",
    "You will be able to:\n",
    "* Install Anaconda"
   ]
  },
  {
   "cell_type": "markdown",
   "metadata": {},
   "source": [
    "## Installing Python and Jupyter Notebook via Anaconda\n",
    "\n",
    "Go [here](https://www.anaconda.com/download/#windows) and click on the “download” button for the Python 3.x (currently 3.7) version of Anaconda.\n",
    "\n",
    "![screen-15](http://curriculum-content.s3.amazonaws.com/data-science/screen-15.png)\n",
    "\n",
    "A window may pop up asking if you want to give Anaconda your information in return for a cheat sheet - you do not need to do so unless you want to.\n",
    "\n",
    "You should see in the bottom of your browser window that a .exe file is being downloaded. When it finishes downloading, click on the arrow to the right of the name of the file in the bottom left corner of your browser, and select “open”.\n",
    "\n",
    "![screen-16](http://curriculum-content.s3.amazonaws.com/data-science/screen-16.png)\n",
    "\n",
    "If you don’t see the file in your browser, you can also just open up Windows Explorer, navigate to the “Downloads” directory and double click on the Anaconda file in the list to open it.\n",
    "\n",
    "![screen-17](http://curriculum-content.s3.amazonaws.com/data-science/screen-17.png)\n",
    "\n",
    "That will open the Anaconda installer which will install the software for you on your computer.\n",
    "\n",
    "![screen-18](http://curriculum-content.s3.amazonaws.com/data-science/screen-18.png)\n",
    "\n",
    "Click “next”, then “I agree” to accept the license, and you can install for “just me”, clicking next. Then select the destination folder (the default should work for most people).\n",
    "\n",
    "![screen-19](http://curriculum-content.s3.amazonaws.com/data-science/screen-19.png)\n",
    "\n",
    "On the next screen, **make sure to check the \"Add Anaconda to my PATH environment\" check box**. It will inform you that it's not recommended, but this is required to be able to access Anaconda from the command line and the final instructions in this guide won't work unless you check this box. Then click “install”.\n",
    "\n",
    "![screen-20](http://curriculum-content.s3.amazonaws.com/data-science/screen-00.png)\n",
    "\n",
    "This step may take a few minutes.\n",
    "\n",
    "![screen-21](http://curriculum-content.s3.amazonaws.com/data-science/screen-21.png)\n",
    "\n",
    "Once the installation is complete,\n",
    "\n",
    "![screen-22](http://curriculum-content.s3.amazonaws.com/data-science/screen-22.png)\n",
    "\n",
    "Hit “next”. You can skip the Visual Code Studio installation\n",
    "\n",
    "![screen-23](http://curriculum-content.s3.amazonaws.com/data-science/screen-23.png)\n",
    "\n",
    "And then finally click “finish”.\n",
    "\n",
    "![screen-24](http://curriculum-content.s3.amazonaws.com/data-science/screen-24.png)\n",
    "\n",
    "It’ll open up a browser window which you can just close down.\n",
    "\n",
    "![screen-25](http://curriculum-content.s3.amazonaws.com/data-science/screen-25.png)\n",
    "\n",
    "And that’s the process of installing Anaconda.\n"
   ]
  },
  {
   "cell_type": "markdown",
   "metadata": {},
   "source": [
    "## Summary\n",
    "\n",
    "Congratulations! You just installed Anaconda. Next up let's get Git installed."
   ]
  }
 ],
 "metadata": {
  "kernelspec": {
   "display_name": "Python 3",
   "language": "python",
   "name": "python3"
  },
  "language_info": {
   "codemirror_mode": {
    "name": "ipython",
    "version": 3
   },
   "file_extension": ".py",
   "mimetype": "text/x-python",
   "name": "python",
   "nbconvert_exporter": "python",
   "pygments_lexer": "ipython3",
   "version": "3.6.6"
  }
 },
 "nbformat": 4,
 "nbformat_minor": 2
}
